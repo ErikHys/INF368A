{
 "cells": [
  {
   "cell_type": "code",
   "execution_count": 1,
   "metadata": {
    "collapsed": true
   },
   "outputs": [],
   "source": [
    "import numpy as np\n",
    "from Assignments.Third.Model import MyFFLM, cross_entropy\n",
    "import re\n",
    "from tqdm import tqdm"
   ]
  },
  {
   "cell_type": "code",
   "execution_count": 2,
   "outputs": [],
   "source": [
    "punc = '''!()-[]{};:'\"\\,<>./?@#$%^&*_~'''\n",
    "\n",
    "with open(\"lotrFotr.txt\",\"r\",encoding='utf-8') as file:\n",
    "    raw_txt = file.read()\n",
    "\n",
    "\n",
    "stripped_txt_lotr = raw_txt.replace('\\n', ' ').replace('\\t', ' ').replace('\\r', ' ')\\\n",
    "    .replace(';', '').replace(':', '').replace('  ', ' ').replace('.', '').replace(',', '').replace('\"', '').lower()\n",
    "stripped_txt_lotr = re.sub(r'[^\\w\\s]', '', stripped_txt_lotr).split()\n",
    "stripped_txt_lotr = stripped_txt_lotr[:len(stripped_txt_lotr)//40]\n",
    "\n",
    "# with open(\"mobydick.txt\",\"r\",encoding='utf-8') as file:\n",
    "#     raw_txt = file.read()\n",
    "#\n",
    "# stripped_txt_mb = raw_txt.replace('\\n', ' ').replace('\\t', ' ').replace('\\r', ' ')\\\n",
    "#     .replace(';', '').replace(':', '').replace('  ', ' ').replace('.', '').replace(',', '').lower().split()"
   ],
   "metadata": {
    "collapsed": false,
    "pycharm": {
     "name": "#%%\n"
    }
   }
  },
  {
   "cell_type": "code",
   "execution_count": 3,
   "outputs": [
    {
     "name": "stdout",
     "output_type": "stream",
     "text": [
      "1331\n"
     ]
    }
   ],
   "source": [
    "vocab = list(set(stripped_txt_lotr))\n",
    "vocab.sort()\n",
    "vocab_dict = {}\n",
    "for i, word in enumerate(vocab):\n",
    "    identity_vector = np.zeros(len(vocab))\n",
    "    identity_vector[i] = 1\n",
    "    vocab_dict[word] = identity_vector\n",
    "print(len(vocab))"
   ],
   "metadata": {
    "collapsed": false,
    "pycharm": {
     "name": "#%%\n"
    }
   }
  },
  {
   "cell_type": "code",
   "execution_count": 9,
   "outputs": [],
   "source": [
    "# Need to split up bc of ram issues, batches is the answer I think\n",
    "memory_depth = 15\n",
    "dataX = np.zeros((len(stripped_txt_lotr) - memory_depth, memory_depth, len(vocab_dict)), dtype='float32')\n",
    "dataY = np.zeros((len(stripped_txt_lotr) - memory_depth, len(vocab_dict)), dtype='int16')\n",
    "for i in range(len(stripped_txt_lotr) - memory_depth):\n",
    "    x = np.zeros((memory_depth, len(vocab_dict)))\n",
    "    for j in range(memory_depth):\n",
    "        x[j] = vocab_dict[stripped_txt_lotr[i+j]]\n",
    "    dataX[i] = x\n",
    "    dataY[i] = vocab_dict[stripped_txt_lotr[i+memory_depth]]"
   ],
   "metadata": {
    "collapsed": false,
    "pycharm": {
     "name": "#%%\n"
    }
   }
  },
  {
   "cell_type": "code",
   "execution_count": 10,
   "outputs": [
    {
     "name": "stdout",
     "output_type": "stream",
     "text": [
      "three\n",
      "[0. 0. 0. ... 0. 0. 0.]\n",
      "rings\n",
      "[0. 0. 0. ... 0. 0. 0.]\n",
      "for\n",
      "[0. 0. 0. ... 0. 0. 0.]\n",
      "the\n",
      "[0. 0. 0. ... 0. 0. 0.]\n",
      "elvenkings\n",
      "[0. 0. 0. ... 0. 0. 0.]\n",
      "under\n",
      "[0. 0. 0. ... 0. 0. 0.]\n",
      "the\n",
      "[0. 0. 0. ... 0. 0. 0.]\n",
      "sky\n",
      "[0. 0. 0. ... 0. 0. 0.]\n",
      "seven\n",
      "[0. 0. 0. ... 0. 0. 0.]\n",
      "for\n",
      "[0. 0. 0. ... 0. 0. 0.]\n",
      "the\n",
      "[0. 0. 0. ... 0. 0. 0.]\n",
      "dwarflords\n",
      "[0. 0. 0. ... 0. 0. 0.]\n",
      "in\n",
      "[0. 0. 0. ... 0. 0. 0.]\n",
      "their\n",
      "[0. 0. 0. ... 0. 0. 0.]\n",
      "halls\n",
      "[0. 0. 0. ... 0. 0. 0.]\n",
      "of\n",
      "[0 0 0 ... 0 0 0] 826\n"
     ]
    }
   ],
   "source": [
    "reversed_dict = {}\n",
    "for key in vocab_dict:\n",
    "    reversed_dict[np.argmax(vocab_dict[key])] = key\n",
    "for x in dataX[0]:\n",
    "    print(reversed_dict[np.argmax(x)])\n",
    "    print(x)\n",
    "print(reversed_dict[np.argmax(dataY[0])])\n",
    "print(dataY[0], np.argmax(dataY[0]))"
   ],
   "metadata": {
    "collapsed": false,
    "pycharm": {
     "name": "#%%\n"
    }
   }
  },
  {
   "cell_type": "code",
   "execution_count": 11,
   "outputs": [
    {
     "name": "stderr",
     "output_type": "stream",
     "text": [
      "epoch progression 1/15, loss: 6.796637217392807, accuracy: 0.06281243207998262: 100%|██████████| 4663/4663 [03:20<00:00, 23.30it/s]  \n",
      "epoch progression 2/15, loss: 6.6355133351331546, accuracy: 0.07476635514018691: 100%|██████████| 4663/4663 [03:18<00:00, 23.46it/s]\n",
      "epoch progression 3/15, loss: 6.683204215409571, accuracy: 0.07324494675070636: 100%|██████████| 4663/4663 [03:20<00:00, 23.22it/s] \n",
      "epoch progression 4/15, loss: 2.590095283455936, accuracy: 0.09900990099009901:   4%|▎         | 165/4663 [00:26<03:11, 23.45it/s]"
     ]
    },
    {
     "ename": "KeyboardInterrupt",
     "evalue": "",
     "output_type": "error",
     "traceback": [
      "\u001B[1;31m---------------------------------------------------------------------------\u001B[0m",
      "\u001B[1;31mKeyboardInterrupt\u001B[0m                         Traceback (most recent call last)",
      "\u001B[1;32m<ipython-input-11-a9195456fa55>\u001B[0m in \u001B[0;36m<module>\u001B[1;34m\u001B[0m\n\u001B[0;32m     11\u001B[0m     \u001B[1;32mfor\u001B[0m \u001B[0mk\u001B[0m\u001B[1;33m,\u001B[0m \u001B[1;33m(\u001B[0m\u001B[0mx\u001B[0m\u001B[1;33m,\u001B[0m \u001B[0my\u001B[0m\u001B[1;33m)\u001B[0m \u001B[1;32min\u001B[0m \u001B[0menumerate\u001B[0m\u001B[1;33m(\u001B[0m\u001B[0mzip\u001B[0m\u001B[1;33m(\u001B[0m\u001B[0mdataX\u001B[0m\u001B[1;33m,\u001B[0m \u001B[0mdataY\u001B[0m\u001B[1;33m)\u001B[0m\u001B[1;33m)\u001B[0m\u001B[1;33m:\u001B[0m\u001B[1;33m\u001B[0m\u001B[1;33m\u001B[0m\u001B[0m\n\u001B[0;32m     12\u001B[0m         \u001B[0my_pred\u001B[0m \u001B[1;33m=\u001B[0m \u001B[0mmodel\u001B[0m\u001B[1;33m.\u001B[0m\u001B[0mforward\u001B[0m\u001B[1;33m(\u001B[0m\u001B[0mx\u001B[0m\u001B[1;33m)\u001B[0m\u001B[1;33m\u001B[0m\u001B[1;33m\u001B[0m\u001B[0m\n\u001B[1;32m---> 13\u001B[1;33m         \u001B[0mmodel\u001B[0m\u001B[1;33m.\u001B[0m\u001B[0mbackprop\u001B[0m\u001B[1;33m(\u001B[0m\u001B[0my\u001B[0m\u001B[1;33m,\u001B[0m \u001B[0my_pred\u001B[0m\u001B[1;33m)\u001B[0m\u001B[1;33m\u001B[0m\u001B[1;33m\u001B[0m\u001B[0m\n\u001B[0m\u001B[0;32m     14\u001B[0m         \u001B[0mloss\u001B[0m \u001B[1;33m+=\u001B[0m \u001B[1;36m0.005\u001B[0m\u001B[1;33m*\u001B[0m\u001B[1;33m(\u001B[0m\u001B[0mcross_entropy\u001B[0m\u001B[1;33m(\u001B[0m\u001B[0my\u001B[0m\u001B[1;33m,\u001B[0m \u001B[0my_pred\u001B[0m\u001B[1;33m)\u001B[0m \u001B[1;33m-\u001B[0m \u001B[0mloss\u001B[0m\u001B[1;33m)\u001B[0m\u001B[1;33m\u001B[0m\u001B[1;33m\u001B[0m\u001B[0m\n\u001B[0;32m     15\u001B[0m         \u001B[1;32mif\u001B[0m \u001B[0my\u001B[0m\u001B[1;33m[\u001B[0m\u001B[0mnp\u001B[0m\u001B[1;33m.\u001B[0m\u001B[0margmax\u001B[0m\u001B[1;33m(\u001B[0m\u001B[0my_pred\u001B[0m\u001B[1;33m)\u001B[0m\u001B[1;33m]\u001B[0m \u001B[1;33m==\u001B[0m \u001B[1;36m1\u001B[0m\u001B[1;33m:\u001B[0m\u001B[1;33m\u001B[0m\u001B[1;33m\u001B[0m\u001B[0m\n",
      "\u001B[1;32m~\\PycharmProjects\\INF368A\\Assignments\\Third\\Model.py\u001B[0m in \u001B[0;36mbackprop\u001B[1;34m(self, y_true, y_pred, dloss)\u001B[0m\n\u001B[0;32m    106\u001B[0m         \u001B[0md\u001B[0m \u001B[1;33m=\u001B[0m \u001B[0mnp\u001B[0m\u001B[1;33m.\u001B[0m\u001B[0marray\u001B[0m\u001B[1;33m(\u001B[0m\u001B[1;33m[\u001B[0m\u001B[0mdelta\u001B[0m\u001B[1;33m[\u001B[0m\u001B[1;33m:\u001B[0m\u001B[1;33m,\u001B[0m \u001B[0mi\u001B[0m\u001B[1;33m:\u001B[0m \u001B[0mi\u001B[0m\u001B[1;33m+\u001B[0m\u001B[0mq\u001B[0m\u001B[1;33m]\u001B[0m \u001B[1;32mfor\u001B[0m \u001B[0mi\u001B[0m \u001B[1;32min\u001B[0m \u001B[0mrange\u001B[0m\u001B[1;33m(\u001B[0m\u001B[0mself\u001B[0m\u001B[1;33m.\u001B[0m\u001B[0mmemory_depth\u001B[0m\u001B[1;33m)\u001B[0m\u001B[1;33m]\u001B[0m\u001B[1;33m)\u001B[0m\u001B[1;33m.\u001B[0m\u001B[0mreshape\u001B[0m\u001B[1;33m(\u001B[0m\u001B[0mself\u001B[0m\u001B[1;33m.\u001B[0m\u001B[0mmemory_depth\u001B[0m\u001B[1;33m,\u001B[0m \u001B[0mself\u001B[0m\u001B[1;33m.\u001B[0m\u001B[0membedding_size\u001B[0m\u001B[1;33m)\u001B[0m\u001B[1;33m\u001B[0m\u001B[1;33m\u001B[0m\u001B[0m\n\u001B[0;32m    107\u001B[0m         \u001B[0mdl_da0\u001B[0m \u001B[1;33m=\u001B[0m \u001B[0md\u001B[0m\u001B[1;33m\u001B[0m\u001B[1;33m\u001B[0m\u001B[0m\n\u001B[1;32m--> 108\u001B[1;33m         \u001B[0mdl_dz0\u001B[0m \u001B[1;33m=\u001B[0m \u001B[0mnp\u001B[0m\u001B[1;33m.\u001B[0m\u001B[0marray\u001B[0m\u001B[1;33m(\u001B[0m\u001B[1;33m[\u001B[0m\u001B[0mnp\u001B[0m\u001B[1;33m.\u001B[0m\u001B[0mmatmul\u001B[0m\u001B[1;33m(\u001B[0m\u001B[0mdl_da0\u001B[0m\u001B[1;33m[\u001B[0m\u001B[0mi\u001B[0m\u001B[1;33m]\u001B[0m\u001B[1;33m.\u001B[0m\u001B[0mreshape\u001B[0m\u001B[1;33m(\u001B[0m\u001B[1;33m-\u001B[0m\u001B[1;36m1\u001B[0m\u001B[1;33m,\u001B[0m \u001B[1;36m1\u001B[0m\u001B[1;33m)\u001B[0m\u001B[1;33m,\u001B[0m \u001B[0mself\u001B[0m\u001B[1;33m.\u001B[0m\u001B[0ma\u001B[0m\u001B[1;33m[\u001B[0m\u001B[1;34m'-1'\u001B[0m\u001B[1;33m]\u001B[0m\u001B[1;33m[\u001B[0m\u001B[0mi\u001B[0m\u001B[1;33m]\u001B[0m\u001B[1;33m.\u001B[0m\u001B[0mreshape\u001B[0m\u001B[1;33m(\u001B[0m\u001B[1;36m1\u001B[0m\u001B[1;33m,\u001B[0m \u001B[1;33m-\u001B[0m\u001B[1;36m1\u001B[0m\u001B[1;33m)\u001B[0m\u001B[1;33m)\u001B[0m \u001B[1;32mfor\u001B[0m \u001B[0mi\u001B[0m \u001B[1;32min\u001B[0m \u001B[0mrange\u001B[0m\u001B[1;33m(\u001B[0m\u001B[0mself\u001B[0m\u001B[1;33m.\u001B[0m\u001B[0mmemory_depth\u001B[0m\u001B[1;33m)\u001B[0m\u001B[1;33m]\u001B[0m\u001B[1;33m)\u001B[0m\u001B[1;33m\u001B[0m\u001B[1;33m\u001B[0m\u001B[0m\n\u001B[0m\u001B[0;32m    109\u001B[0m \u001B[1;33m\u001B[0m\u001B[0m\n\u001B[0;32m    110\u001B[0m         \u001B[0mself\u001B[0m\u001B[1;33m.\u001B[0m\u001B[0mdL_dw\u001B[0m\u001B[1;33m[\u001B[0m\u001B[1;34m'2'\u001B[0m\u001B[1;33m]\u001B[0m \u001B[1;33m=\u001B[0m \u001B[0mscale\u001B[0m\u001B[1;33m(\u001B[0m\u001B[0mdl_dz2\u001B[0m\u001B[1;33m)\u001B[0m\u001B[1;33m\u001B[0m\u001B[1;33m\u001B[0m\u001B[0m\n",
      "\u001B[1;31mKeyboardInterrupt\u001B[0m: "
     ]
    }
   ],
   "source": [
    "v_len = len(vocab)\n",
    "data_set_length = len(stripped_txt_lotr) - memory_depth\n",
    "model = MyFFLM(v_len, 128, learning_rate=0.1, memory_depth=memory_depth)\n",
    "loss = 0\n",
    "\n",
    "# for batch in range(data_set_length // batch_size):\n",
    "for epoch in range(5):\n",
    "    epoch_progress = tqdm(total=dataX.shape[0], desc=\"epoch progression {}/{}, loss: {}, accuracy: 0\".format(epoch+1, 15, loss))\n",
    "    loss = 0\n",
    "    epoch_accuracy = 0\n",
    "    for k, (x, y) in enumerate(zip(dataX, dataY)):\n",
    "        y_pred = model.forward(x)\n",
    "        model.backprop(y, y_pred)\n",
    "        loss += 0.005*(cross_entropy(y, y_pred) - loss)\n",
    "        if y[np.argmax(y_pred)] == 1:\n",
    "            epoch_accuracy += 1\n",
    "        if k % 100 == 0:\n",
    "            epoch_progress.set_description(desc=\"epoch progression {}/{}, loss: {}, accuracy: {}\".format(epoch+1, 15, loss, epoch_accuracy/(k+1)), refresh=True)\n",
    "        epoch_progress.update()\n",
    "    epoch_progress.close()\n",
    "\n"
   ],
   "metadata": {
    "collapsed": false,
    "pycharm": {
     "name": "#%%\n"
    }
   }
  },
  {
   "cell_type": "code",
   "execution_count": 7,
   "outputs": [],
   "source": [
    "vectors = model.embedding_layer.weights\n",
    "np.savetxt('lotrvec1.tsv', vectors, delimiter='\\t')\n"
   ],
   "metadata": {
    "collapsed": false,
    "pycharm": {
     "name": "#%%\n"
    }
   }
  },
  {
   "cell_type": "code",
   "execution_count": 8,
   "outputs": [],
   "source": [
    "em_weights = model.embedding_layer.weights\n",
    "np.savetxt('emw1.csv', vectors, delimiter=',')\n",
    "h_weights = model.hidden_layer.weights\n",
    "np.savetxt('hiddenw1.csv', vectors, delimiter=',')\n",
    "\n",
    "out_weights = model.output_layer.weights\n",
    "np.savetxt('outw1.csv', vectors, delimiter=',')\n"
   ],
   "metadata": {
    "collapsed": false,
    "pycharm": {
     "name": "#%%\n"
    }
   }
  }
 ],
 "metadata": {
  "kernelspec": {
   "display_name": "Python 3",
   "language": "python",
   "name": "python3"
  },
  "language_info": {
   "codemirror_mode": {
    "name": "ipython",
    "version": 2
   },
   "file_extension": ".py",
   "mimetype": "text/x-python",
   "name": "python",
   "nbconvert_exporter": "python",
   "pygments_lexer": "ipython2",
   "version": "2.7.6"
  }
 },
 "nbformat": 4,
 "nbformat_minor": 0
}